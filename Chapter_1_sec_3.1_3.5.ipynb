{
 "cells": [
  {
   "cell_type": "markdown",
   "metadata": {
    "slideshow": {
     "slide_type": "slide"
    }
   },
   "source": [
    "#### Info: Introduction to R\n",
    "#### https://www.statlearning.com/resources-first-edition 1st half code, 2nd half, data\n",
    "#### code from https://github.com/qx0731/Sharing_ISL_python/tree/master\n",
    "#### data menthoned \n",
    "#### https://github.com/JWarmenhoven/ISLR-python/blob/master/Notebooks/Chapter%203.ipynb\n",
    "#### Real data can be accessed from  \n",
    "#### /c/Users/zhen-/Documents/Code/Python_Scripts/Sharing_ISL_python/data"
   ]
  },
  {
   "cell_type": "markdown",
   "metadata": {
    "slideshow": {
     "slide_type": "slide"
    }
   },
   "source": [
    "#### https://www.youtube.com/watch?v=Zcb-1JmmO_U&list=PLoROMvodv4rPP6braWoRt5UCXYZ71GZIQ&index=13\n",
    "#### NO code in Chapter1"
   ]
  },
  {
   "cell_type": "code",
   "execution_count": 2,
   "metadata": {
    "slideshow": {
     "slide_type": "slide"
    }
   },
   "outputs": [],
   "source": [
    "# best practice is to have all the modules imported at the top of the file, but for this one, I will import them when we need them\n",
    "import numpy as np  \n",
    "import matplotlib.pyplot as plt"
   ]
  }
 ],
 "metadata": {
  "anaconda-cloud": {},
  "kernelspec": {
   "display_name": "base",
   "language": "python",
   "name": "python3"
  },
  "language_info": {
   "codemirror_mode": {
    "name": "ipython",
    "version": 3
   },
   "file_extension": ".py",
   "mimetype": "text/x-python",
   "name": "python",
   "nbconvert_exporter": "python",
   "pygments_lexer": "ipython3",
   "version": "3.12.3"
  }
 },
 "nbformat": 4,
 "nbformat_minor": 4
}
