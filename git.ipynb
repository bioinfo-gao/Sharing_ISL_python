{
 "cells": [
  {
   "cell_type": "code",
   "execution_count": null,
   "id": "1a272d7f-329c-4262-8ae6-d3a6e0d61cfb",
   "metadata": {},
   "outputs": [],
   "source": [
    "#### eVery Wield thing, in jupyter !git the ! is needed\n",
    "#### NOt NEEDED in vscode\n",
    "#### Top for Jupyer, Bottom for vscode"
   ]
  },
  {
   "cell_type": "code",
   "execution_count": 2,
   "id": "aba7c887-42b7-4751-bae8-67b5bede4ca7",
   "metadata": {
    "collapsed": true,
    "jupyter": {
     "outputs_hidden": true
    },
    "scrolled": true
   },
   "outputs": [
    {
     "name": "stdout",
     "output_type": "stream",
     "text": [
      "On branch master\n",
      "Your branch is up to date with 'origin/master'.\n",
      "\n",
      "Changes not staged for commit:\n",
      "  (use \"git add <file>...\" to update what will be committed)\n",
      "  (use \"git restore <file>...\" to discard changes in working directory)\n",
      "\tmodified:   Chapter_1_sec_3.1_3.5.ipynb\n",
      "\tmodified:   Chapter_2_sec_3.1_3.5.ipynb\n",
      "\tmodified:   git.ipynb\n",
      "\n",
      "no changes added to commit (use \"git add\" and/or \"git commit -a\")\n"
     ]
    }
   ],
   "source": [
    "!git status"
   ]
  },
  {
   "cell_type": "code",
   "execution_count": 2,
   "id": "d1364f67-34a8-4de1-8b69-fdabfb94f9d5",
   "metadata": {
    "collapsed": true,
    "jupyter": {
     "outputs_hidden": true
    }
   },
   "outputs": [
    {
     "name": "stderr",
     "output_type": "stream",
     "text": [
      "warning: in the working copy of '.ipynb_checkpoints/Chapter_2_sec_3.1_3.5-checkpoint.ipynb', LF will be replaced by CRLF the next time Git touches it\n",
      "warning: in the working copy of 'Chapter_1_sec_3.1_3.5.ipynb', LF will be replaced by CRLF the next time Git touches it\n",
      "warning: in the working copy of 'Chapter_2_sec_3.1_3.5.ipynb', LF will be replaced by CRLF the next time Git touches it\n",
      "warning: in the working copy of '.ipynb_checkpoints/Chapter_1_sec_3.1_3.5-checkpoint.ipynb', LF will be replaced by CRLF the next time Git touches it\n",
      "warning: in the working copy of '.ipynb_checkpoints/git-checkpoint.ipynb', LF will be replaced by CRLF the next time Git touches it\n",
      "warning: in the working copy of 'git.ipynb', LF will be replaced by CRLF the next time Git touches it\n"
     ]
    }
   ],
   "source": [
    "!git add ."
   ]
  },
  {
   "cell_type": "code",
   "execution_count": 3,
   "id": "540155a4-f1c4-410e-aec5-b05440ad99a4",
   "metadata": {
    "collapsed": true,
    "jupyter": {
     "outputs_hidden": true
    }
   },
   "outputs": [
    {
     "name": "stdout",
     "output_type": "stream",
     "text": [
      "[master 5182900] Update notebook\n",
      " 8 files changed, 2089 insertions(+), 61 deletions(-)\n",
      " create mode 100644 .ipynb_checkpoints/Chapter_10_sec_10.9-checkpoint.ipynb\n",
      " create mode 100644 .ipynb_checkpoints/Chapter_1_sec_3.1_3.5-checkpoint.ipynb\n",
      " create mode 100644 .ipynb_checkpoints/Chapter_3_sec_6.1_6.7-checkpoint.ipynb\n",
      " create mode 100644 .ipynb_checkpoints/git-checkpoint.ipynb\n",
      " create mode 100644 git.ipynb\n"
     ]
    }
   ],
   "source": [
    "!git commit -m \"Update notebook\""
   ]
  },
  {
   "cell_type": "code",
   "execution_count": 5,
   "id": "2166b6b1-a030-48b0-be00-13462ef6cdd3",
   "metadata": {},
   "outputs": [
    {
     "name": "stderr",
     "output_type": "stream",
     "text": [
      "To https://github.com/bioinfo-gao/Sharing_ISL_python.git\n",
      "   15f5031..5182900  master -> master\n"
     ]
    }
   ],
   "source": [
    "!git push origin master"
   ]
  },
  {
   "cell_type": "code",
   "execution_count": null,
   "id": "c197671c-801d-4413-a3bb-f53b16c1b175",
   "metadata": {},
   "outputs": [],
   "source": [
    "#### eVery Wield thing, in jupyter !git the ! is needed\n",
    "#### NOt NEEDED in vscode\n",
    "\n",
    "#### =========== here for vscode"
   ]
  },
  {
   "cell_type": "code",
   "execution_count": 2,
   "id": "d6067d56-c926-405f-96b0-14dd7e120030",
   "metadata": {
    "collapsed": true,
    "jupyter": {
     "outputs_hidden": true
    },
    "scrolled": true
   },
   "outputs": [
    {
     "name": "stdout",
     "output_type": "stream",
     "text": [
      "On branch master\n",
      "Your branch is up to date with 'origin/master'.\n",
      "\n",
      "Changes not staged for commit:\n",
      "  (use \"git add <file>...\" to update what will be committed)\n",
      "  (use \"git restore <file>...\" to discard changes in working directory)\n",
      "\tmodified:   Chapter_1_sec_3.1_3.5.ipynb\n",
      "\tmodified:   Chapter_2_sec_3.1_3.5.ipynb\n",
      "\tmodified:   git.ipynb\n",
      "\n",
      "no changes added to commit (use \"git add\" and/or \"git commit -a\")\n"
     ]
    }
   ],
   "source": [
    "git status"
   ]
  },
  {
   "cell_type": "code",
   "execution_count": 2,
   "id": "24cd4593-1c30-486f-bd08-7333a05fff4a",
   "metadata": {
    "collapsed": true,
    "jupyter": {
     "outputs_hidden": true
    }
   },
   "outputs": [
    {
     "name": "stderr",
     "output_type": "stream",
     "text": [
      "warning: in the working copy of '.ipynb_checkpoints/Chapter_2_sec_3.1_3.5-checkpoint.ipynb', LF will be replaced by CRLF the next time Git touches it\n",
      "warning: in the working copy of 'Chapter_1_sec_3.1_3.5.ipynb', LF will be replaced by CRLF the next time Git touches it\n",
      "warning: in the working copy of 'Chapter_2_sec_3.1_3.5.ipynb', LF will be replaced by CRLF the next time Git touches it\n",
      "warning: in the working copy of '.ipynb_checkpoints/Chapter_1_sec_3.1_3.5-checkpoint.ipynb', LF will be replaced by CRLF the next time Git touches it\n",
      "warning: in the working copy of '.ipynb_checkpoints/git-checkpoint.ipynb', LF will be replaced by CRLF the next time Git touches it\n",
      "warning: in the working copy of 'git.ipynb', LF will be replaced by CRLF the next time Git touches it\n"
     ]
    }
   ],
   "source": [
    "git add ."
   ]
  },
  {
   "cell_type": "code",
   "execution_count": null,
   "id": "84c1e537-f777-4d8a-9ca3-83a4db11bfc6",
   "metadata": {
    "collapsed": true,
    "jupyter": {
     "outputs_hidden": true
    }
   },
   "outputs": [
    {
     "name": "stdout",
     "output_type": "stream",
     "text": [
      "[master 5182900] Update notebook\n",
      " 8 files changed, 2089 insertions(+), 61 deletions(-)\n",
      " create mode 100644 .ipynb_checkpoints/Chapter_10_sec_10.9-checkpoint.ipynb\n",
      " create mode 100644 .ipynb_checkpoints/Chapter_1_sec_3.1_3.5-checkpoint.ipynb\n",
      " create mode 100644 .ipynb_checkpoints/Chapter_3_sec_6.1_6.7-checkpoint.ipynb\n",
      " create mode 100644 .ipynb_checkpoints/git-checkpoint.ipynb\n",
      " create mode 100644 git.ipynb\n"
     ]
    }
   ],
   "source": [
    "git commit -m \"Update notebook in vsCode\""
   ]
  },
  {
   "cell_type": "code",
   "execution_count": 5,
   "id": "df847d78-24f2-4e8a-999f-3de83828110b",
   "metadata": {},
   "outputs": [
    {
     "name": "stderr",
     "output_type": "stream",
     "text": [
      "To https://github.com/bioinfo-gao/Sharing_ISL_python.git\n",
      "   15f5031..5182900  master -> master\n"
     ]
    }
   ],
   "source": [
    "!git push origin master"
   ]
  },
  {
   "cell_type": "code",
   "execution_count": null,
   "id": "c913ad73-60a9-47df-9648-7110420be23f",
   "metadata": {},
   "outputs": [],
   "source": []
  },
  {
   "cell_type": "code",
   "execution_count": null,
   "id": "e72f059e-4b9e-4216-b519-c0e03f016bde",
   "metadata": {},
   "outputs": [],
   "source": []
  }
 ],
 "metadata": {
  "kernelspec": {
   "display_name": "Python 3 (ipykernel)",
   "language": "python",
   "name": "python3"
  },
  "language_info": {
   "codemirror_mode": {
    "name": "ipython",
    "version": 3
   },
   "file_extension": ".py",
   "mimetype": "text/x-python",
   "name": "python",
   "nbconvert_exporter": "python",
   "pygments_lexer": "ipython3",
   "version": "3.12.3"
  }
 },
 "nbformat": 4,
 "nbformat_minor": 5
}
